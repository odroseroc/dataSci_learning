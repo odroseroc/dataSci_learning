{
 "cells": [
  {
   "cell_type": "code",
   "execution_count": 3,
   "id": "223450e1-8f98-4330-9d25-09a08828c60f",
   "metadata": {},
   "outputs": [],
   "source": [
    "import random\n",
    "from icecream import ic\n",
    "\n",
    "def dicesim(num_sims, faces, value, threshold, rolls):\n",
    "    '''\n",
    "    Simulate multiple experiments, where each experiment involves rolling a\n",
    "    die with certain number of faces a specific number of times and printing the\n",
    "    results of the experiment if the number of times a certain value is obtained\n",
    "    is smaller <= a threshold.\n",
    "\n",
    "    Arguments:\n",
    "    ----------\n",
    "\n",
    "    num_sims: the total number of experiments to simulate\n",
    "    faces: number of faces of the die\n",
    "    value: if the die roll lands on this value, the event is successful\n",
    "    threshold: will print if the number of successful events is <= this value\n",
    "    rolls: number of rolls per experiment\n",
    "    '''\n",
    "\n",
    "    event_count = 0\n",
    "\n",
    "    for sim in range(num_sims):\n",
    "        dice = random.choices(range(1,faces+1), k=rolls)\n",
    "        # ic(f'{dice!r}')\n",
    "        if dice.count(value) <= threshold:\n",
    "            event_count += 1\n",
    "            # ic(f'{sim:2} : {dice.count(value)}')\n",
    "\n",
    "    print(event_count / num_sims)"
   ]
  },
  {
   "cell_type": "code",
   "execution_count": 5,
   "id": "6cc93db7-7456-40e3-9c46-8930f2d95fff",
   "metadata": {},
   "outputs": [
    {
     "name": "stdout",
     "output_type": "stream",
     "text": [
      "0.029485\n"
     ]
    }
   ],
   "source": [
    "dicesim(200_000, faces=6, value=6, threshold=1, rolls=30)"
   ]
  },
  {
   "cell_type": "code",
   "execution_count": null,
   "id": "0819526e-43c0-4bab-9fc5-92e748276970",
   "metadata": {},
   "outputs": [],
   "source": []
  }
 ],
 "metadata": {
  "kernelspec": {
   "display_name": "Python 3 (ipykernel)",
   "language": "python",
   "name": "python3"
  },
  "language_info": {
   "codemirror_mode": {
    "name": "ipython",
    "version": 3
   },
   "file_extension": ".py",
   "mimetype": "text/x-python",
   "name": "python",
   "nbconvert_exporter": "python",
   "pygments_lexer": "ipython3",
   "version": "3.10.12"
  }
 },
 "nbformat": 4,
 "nbformat_minor": 5
}
